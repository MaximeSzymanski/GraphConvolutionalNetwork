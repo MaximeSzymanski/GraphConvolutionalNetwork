{
  "cells": [
    {
      "cell_type": "markdown",
      "metadata": {
        "id": "view-in-github",
        "colab_type": "text"
      },
      "source": [
        "<a href=\"https://colab.research.google.com/github/MaximeSzymanski/GraphConvolutionalNetwork/blob/main/GCN.ipynb\" target=\"_parent\"><img src=\"https://colab.research.google.com/assets/colab-badge.svg\" alt=\"Open In Colab\"/></a>"
      ]
    },
    {
      "cell_type": "code",
      "execution_count": 3,
      "metadata": {
        "ExecuteTime": {
          "start_time": "2023-07-22T18:31:56.068501Z",
          "end_time": "2023-07-22T18:31:57.492657Z"
        },
        "collapsed": true,
        "id": "cTPgllWkY6C2"
      },
      "outputs": [],
      "source": [
        "import torch\n",
        "import torch.nn as nn\n",
        "import torch.nn.functional as F\n",
        "import networkx as nx\n",
        "import numpy as np\n",
        "import matplotlib.pyplot as plt\n",
        "import random"
      ]
    },
    {
      "cell_type": "code",
      "execution_count": 42,
      "metadata": {
        "ExecuteTime": {
          "start_time": "2023-07-22T18:47:41.199680Z",
          "end_time": "2023-07-22T18:47:41.208032Z"
        },
        "id": "2jcJAlUCY6C4"
      },
      "outputs": [],
      "source": [
        "def networx_to_stucture_part(G : nx.Graph):\n",
        "    \"\"\"\n",
        "    Converts a networkx graph to a tensor representation\n",
        "    \"\"\"\n",
        "    adj = nx.adjacency_matrix(G).todense()\n",
        "    identity = np.identity(adj.shape[0])\n",
        "    adj_tild = adj + identity\n",
        "    degrees = np.sum(adj_tild, axis=1)\n",
        "    d_tild = np.diag(np.power(degrees, -0.5))\n",
        "    stucture_part = np.matmul(np.matmul(d_tild, adj_tild), d_tild)\n",
        "    return stucture_part"
      ]
    },
    {
      "cell_type": "code",
      "execution_count": 43,
      "metadata": {
        "ExecuteTime": {
          "start_time": "2023-07-22T18:47:41.336687Z",
          "end_time": "2023-07-22T18:47:41.345178Z"
        },
        "id": "MNuCfobtY6C4"
      },
      "outputs": [],
      "source": [
        "class GCN_layer(nn.Module):\n",
        "    def __init__(self, in_features, out_features):\n",
        "        super(GCN_layer, self).__init__()\n",
        "        self.W = nn.Parameter(torch.zeros(in_features, out_features), requires_grad=True)\n",
        "        self.b = nn.Parameter(torch.zeros(out_features), requires_grad=True)\n",
        "        nn.init.xavier_uniform_(self.W.data)\n",
        "        nn.init.zeros_(self.b.data)\n",
        "\n",
        "    def forward(self,X,structure_part):\n",
        "        \"\"\"\n",
        "        X: input features\n",
        "        G: nx.Graph graph\n",
        "        \"\"\"\n",
        "\n",
        "        \"\"\"X = torch.tensor(X).float().requires_grad_(False)\"\"\"\n",
        "        output = torch.matmul(structure_part,X)\n",
        "        output = torch.matmul(output,self.W) + self.b\n",
        "\n",
        "        return output\n",
        "\n",
        "\n"
      ]
    },
    {
      "cell_type": "code",
      "execution_count": 44,
      "metadata": {
        "ExecuteTime": {
          "start_time": "2023-07-22T18:47:41.412042Z",
          "end_time": "2023-07-22T18:47:41.424656Z"
        },
        "id": "9xjiEBE0Y6C5"
      },
      "outputs": [],
      "source": [
        "class GCN_network(nn.Module):\n",
        "    def __init__(self, in_features, out_features,hidden_features=64, dropout=0.5,num_layers=2,device='cpu'):\n",
        "        super(GCN_network, self).__init__()\n",
        "\n",
        "        self.device=device\n",
        "        self.layers = nn.ModuleList()  # Create a ModuleList to store GCN layers\n",
        "\n",
        "        # Add GCN layers to the ModuleList\n",
        "        self.layers.append(GCN_layer(in_features, hidden_features))\n",
        "        for _ in range(num_layers - 1):  # Add (num_layers - 1) additional GCN layers\n",
        "            self.layers.append(GCN_layer(hidden_features, hidden_features))\n",
        "        # Output layer\n",
        "        self.layer_out = GCN_layer(hidden_features, out_features)\n",
        "\n",
        "        self.dropout = dropout\n",
        "    def forward(self,X,G : nx.Graph):\n",
        "        \"\"\"\n",
        "        X: input features\n",
        "        G: nx.Graph graph\n",
        "        \"\"\"\n",
        "        tensor_graph = torch.tensor(networx_to_stucture_part(G),dtype=torch.float32,device=self.device)\n",
        "\n",
        "        X = torch.tensor(X,device=self.device).float()\n",
        "        for layer in self.layers:\n",
        "            X = layer(X, tensor_graph)\n",
        "            X = F.relu(X)\n",
        "            X = F.dropout(X, p=self.dropout)\n",
        "        output = self.layer_out(X, tensor_graph)\n",
        "\n",
        "        return output\n"
      ]
    },
    {
      "cell_type": "code",
      "execution_count": 45,
      "metadata": {
        "ExecuteTime": {
          "start_time": "2023-07-22T18:47:41.557375Z",
          "end_time": "2023-07-22T18:47:41.582660Z"
        },
        "id": "54Zpa9aTY6C5"
      },
      "outputs": [],
      "source": [
        "def generate_graph(numb_nodes=20):\n",
        "    random_graph = nx.path_graph(numb_nodes)\n",
        "    # apply one dimension features to node, a random number between 0 and 1\n",
        "    for node in random_graph.nodes:\n",
        "        random_graph.nodes[node]['features'] = random.random()\n",
        "    #print(random_graph.nodes.data())\n",
        "    num_features = 1\n",
        "    # plot the graph\n",
        "    \"\"\"nx.draw(random_graph, with_labels=True)\"\"\"\n",
        "    # put all the features in a numpy array\n",
        "    features_complete = np.zeros((len(random_graph.nodes),num_features))\n",
        "    features_masked = np.zeros((len(random_graph.nodes),num_features))\n",
        "    # get two random nodes in the graph\n",
        "    node1 = random.choice(list(random_graph.nodes))\n",
        "    node2 = random.choice(list(random_graph.nodes))\n",
        "    # compute the shortest path between the two nodes\n",
        "    shortest_path = nx.shortest_path(random_graph, node1, node2)\n",
        "    #print(shortest_path)\n",
        "    # put the features of the shortest path nodes to 1, as  a dict\n",
        "\n",
        "    for node in random_graph.nodes:\n",
        "        if node in shortest_path:\n",
        "            features_complete[node] = 1\n",
        "        else:\n",
        "            features_complete[node] = 0\n",
        "    # plot graph. Node that the shortest path nodes are colored in red\n",
        "    for node in random_graph.nodes:\n",
        "        if node in shortest_path:\n",
        "            random_graph.nodes[node]['features'] = 1\n",
        "        else:\n",
        "            random_graph.nodes[node]['features'] = 0\n",
        "    \"\"\"nx.draw(random_graph, with_labels=True, node_color=[random_graph.nodes[node]['features'] for node in random_graph.nodes])\"\"\"\n",
        "    #print(features_complete)\n",
        "    # features masked has only the departure and arrival nodes of the shortest path\n",
        "    features_masked[shortest_path[0]] = 1\n",
        "    features_masked[shortest_path[-1]] = 1\n",
        "    return features_complete, features_masked, random_graph\n"
      ]
    },
    {
      "cell_type": "code",
      "execution_count": 73,
      "metadata": {
        "ExecuteTime": {
          "start_time": "2023-07-22T18:47:41.684238Z",
          "end_time": "2023-07-22T18:47:41.693588Z"
        },
        "id": "Ue6MzbDpY6C5"
      },
      "outputs": [],
      "source": [
        "number_graph_instances = 1\n",
        "numb_nodes = 200\n",
        "generated_data = []\n",
        "\n",
        "for _ in range(number_graph_instances):\n",
        "    features_complete, features_masked, random_graph = generate_graph(numb_nodes)\n",
        "    generated_data.append((features_complete, features_masked, random_graph))\n",
        "\n",
        "\n",
        "num_features = 1\n",
        "features_complete = np.array([generated_data[i][0] for i in range(number_graph_instances)])\n",
        "features_masked = np.array([generated_data[i][1] for i in range(number_graph_instances)])\n",
        "graphs = []\n",
        "for i in range(len(generated_data)):\n",
        "    graphs.append(generated_data[i][2])\n",
        "\n"
      ]
    },
    {
      "cell_type": "code",
      "execution_count": null,
      "metadata": {
        "ExecuteTime": {
          "start_time": "2023-07-22T18:47:41.795583Z",
          "end_time": "2023-07-22T18:47:41.853646Z"
        },
        "id": "M_uncchIY6C6"
      },
      "outputs": [],
      "source": [
        "device = torch.device('cuda' if torch.cuda.is_available() else 'cpu')\n",
        "\n",
        "model = GCN_network(in_features=num_features, out_features=2, hidden_features=32, dropout=0.2,num_layers=20,device=device)\n",
        "\n",
        "print(f\"current device : {device}\")\n",
        "model = model.to(device)\n",
        "with torch.no_grad():\n",
        "    for graph, features in zip(graphs, features_masked):\n",
        "        output = model(features, graph)\n",
        "\n",
        "\n",
        "\n",
        "# remove the last dimension of features_complete and features_masked\n"
      ]
    },
    {
      "cell_type": "code",
      "execution_count": 75,
      "metadata": {
        "ExecuteTime": {
          "start_time": "2023-07-22T18:48:12.996344Z",
          "end_time": "2023-07-22T18:48:12.999372Z"
        },
        "id": "LoU89ENfY6C6"
      },
      "outputs": [],
      "source": [
        "optimizer = torch.optim.Adam(model.parameters(), lr=0.00025)\n",
        "criterion = nn.CrossEntropyLoss()"
      ]
    },
    {
      "cell_type": "code",
      "execution_count": null,
      "metadata": {
        "ExecuteTime": {
          "start_time": "2023-07-22T18:48:13.554275Z",
          "end_time": "2023-07-22T18:48:13.558138Z"
        },
        "id": "u12hpxWTY6C6"
      },
      "outputs": [],
      "source": [
        "print(model.layers[0].W)"
      ]
    },
    {
      "cell_type": "code",
      "execution_count": null,
      "metadata": {
        "ExecuteTime": {
          "start_time": "2023-07-22T18:48:56.333613Z",
          "end_time": "2023-07-22T18:50:23.940765Z"
        },
        "id": "c7g37gPrY6C6"
      },
      "outputs": [],
      "source": [
        "epoch = 10000\n",
        "\n",
        "for i in range(epoch):\n",
        "    curr_loss = 0\n",
        "    for graph, features ,features_complete_unit in zip(graphs, features_masked,features_complete):\n",
        "        features_complete_tensor = torch.tensor(features_complete_unit,dtype=torch.long,device=device).requires_grad_(False).view(-1)\n",
        "        output = model(features, graph)\n",
        "\n",
        "        loss = criterion(output,features_complete_tensor)\n",
        "        loss.backward()\n",
        "        optimizer.step()\n",
        "        curr_loss += loss.item()\n",
        "        optimizer.zero_grad()\n",
        "    print(f\"Epoch: {i} Loss: {curr_loss/len(graphs)}\")\n"
      ]
    },
    {
      "cell_type": "code",
      "execution_count": 81,
      "metadata": {
        "ExecuteTime": {
          "start_time": "2023-07-22T18:54:01.123812Z",
          "end_time": "2023-07-22T18:54:01.166828Z"
        },
        "colab": {
          "base_uri": "https://localhost:8080/"
        },
        "id": "MWvimJQtY6C6",
        "outputId": "50e8561e-8812-49c1-9769-808eb9441d5f"
      },
      "outputs": [
        {
          "output_type": "stream",
          "name": "stdout",
          "text": [
            "Accuracy: 0.85%\n"
          ]
        }
      ],
      "source": [
        "# plot the graph. The shortest path is colored in red\n",
        "with torch.no_grad():\n",
        "    accuracy = 0\n",
        "    for graph, features ,features_complete_unit in zip(graphs, features_masked,features_complete):\n",
        "        features_complete_tensor = torch.tensor(features_complete_unit,dtype=torch.long,device=device).requires_grad_(False).view(-1)\n",
        "        output = model(features, graph)\n",
        "        predicted = (torch.argmax(output, dim=1))\n",
        "        accuracy += (torch.sum(predicted == features_complete_tensor).item()/len(predicted))\n",
        "    print(f\"Accuracy: {accuracy/len(graphs)}%\")"
      ]
    }
  ],
  "metadata": {
    "kernelspec": {
      "display_name": "Python 3",
      "name": "python3"
    },
    "language_info": {
      "codemirror_mode": {
        "name": "ipython",
        "version": 2
      },
      "file_extension": ".py",
      "mimetype": "text/x-python",
      "name": "python",
      "nbconvert_exporter": "python",
      "pygments_lexer": "ipython2",
      "version": "2.7.6"
    },
    "colab": {
      "provenance": [],
      "gpuType": "T4",
      "include_colab_link": true
    },
    "accelerator": "GPU"
  },
  "nbformat": 4,
  "nbformat_minor": 0
}